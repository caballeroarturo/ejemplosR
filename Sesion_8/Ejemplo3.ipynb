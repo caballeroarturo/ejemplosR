{
  "nbformat": 4,
  "nbformat_minor": 0,
  "metadata": {
    "colab": {
      "provenance": [],
      "authorship_tag": "ABX9TyOiWVrrBkqWyAxcT+DP984b",
      "include_colab_link": true
    },
    "kernelspec": {
      "name": "ir",
      "display_name": "R"
    },
    "language_info": {
      "name": "R"
    }
  },
  "cells": [
    {
      "cell_type": "markdown",
      "metadata": {
        "id": "view-in-github",
        "colab_type": "text"
      },
      "source": [
        "<a href=\"https://colab.research.google.com/github/caballeroarturo/ejemplosR/blob/main/Sesion_8/Ejemplo3.ipynb\" target=\"_parent\"><img src=\"https://colab.research.google.com/assets/colab-badge.svg\" alt=\"Open In Colab\"/></a>"
      ]
    },
    {
      "cell_type": "markdown",
      "source": [
        "## EJEMPLO 03: LECTURA Y MANIPULACIÓN DE ARCHIVOS JSON\n",
        "\"JSON es un acrónimo para JavaScript Object Notation, y fueron desarrollados e\n",
        "implementados inicialmente dentro del lenguaje de programación JS.\n",
        "Los archivos JSON son un formago ligero de intercambio de datos que solucionó los\n",
        "problemas presentados por el estándar XML, sustituyéndolo y potenciando su popularidad\n",
        "al punto en que el stándar JSON es aplicado y aceptado por múltiples lenguajes de programación,\n",
        "APIs y diversos sistemas.\n",
        "\n",
        "Un archivo JSON se caracteriza por almacenar valores (objetos de datos) a través de\n",
        "claves (llaves) que funcionan como identificador del valor.\n",
        "\n",
        "Para leer y manipular archivos JSON en R necesitamos de la siguiente paquetería:\"\n",
        "\n",
        "# install.packages(\"rjson\")"
      ],
      "metadata": {
        "id": "Y-NZNh8eVfxV"
      }
    },
    {
      "cell_type": "code",
      "source": [
        "install.packages(\"pacman\")"
      ],
      "metadata": {
        "colab": {
          "base_uri": "https://localhost:8080/"
        },
        "id": "xRCKBjHMVmBe",
        "outputId": "be22413e-1e1f-4071-a416-faff74eee2c6"
      },
      "execution_count": 3,
      "outputs": [
        {
          "output_type": "stream",
          "name": "stderr",
          "text": [
            "Installing package into ‘/usr/local/lib/R/site-library’\n",
            "(as ‘lib’ is unspecified)\n",
            "\n"
          ]
        }
      ]
    },
    {
      "cell_type": "code",
      "source": [
        "pacman::p_load(rjson)"
      ],
      "metadata": {
        "id": "57NjeBC-Vtry"
      },
      "execution_count": 4,
      "outputs": []
    },
    {
      "cell_type": "markdown",
      "source": [
        "La función fromJSON() permite leer archivos JSON locales o en una url:\""
      ],
      "metadata": {
        "id": "3q2goH4YVyrZ"
      }
    },
    {
      "cell_type": "code",
      "execution_count": 5,
      "metadata": {
        "colab": {
          "base_uri": "https://localhost:8080/",
          "height": 34
        },
        "id": "SAXhslLgVcIq",
        "outputId": "10783851-1469-4c52-b682-30725573e057"
      },
      "outputs": [
        {
          "output_type": "display_data",
          "data": {
            "text/html": [
              "'list'"
            ],
            "text/markdown": "'list'",
            "text/latex": "'list'",
            "text/plain": [
              "[1] \"list\""
            ]
          },
          "metadata": {}
        }
      ],
      "source": [
        "URL <- \"https://tools.learningcontainer.com/sample-json-file.json\"\n",
        "JsonData <- fromJSON(file= URL)\n",
        "\n",
        "class(JsonData)"
      ]
    },
    {
      "cell_type": "markdown",
      "source": [
        "Los JSON son interpretados por R como una lista (al igual que Python), por lo que\n",
        "podemos manipularlos de la misma forma y aplicar todo lo que hemos visto en el curso:"
      ],
      "metadata": {
        "id": "cjcIzArQV4C0"
      }
    },
    {
      "cell_type": "code",
      "source": [
        "str(JsonData)"
      ],
      "metadata": {
        "colab": {
          "base_uri": "https://localhost:8080/"
        },
        "id": "hT0KVcUCV1y9",
        "outputId": "297a8589-8b07-4633-987e-5108d86e8f1a"
      },
      "execution_count": 10,
      "outputs": [
        {
          "output_type": "stream",
          "name": "stdout",
          "text": [
            "List of 5\n",
            " $ Name   : chr \"Test\"\n",
            " $ Mobile : num 12345678\n",
            " $ Boolean: logi TRUE\n",
            " $ Pets   : chr [1:2] \"Dog\" \"cat\"\n",
            " $ Address:List of 2\n",
            "  ..$ Permanent address: chr \"USA\"\n",
            "  ..$ current Address  : chr \"AU\"\n"
          ]
        }
      ]
    },
    {
      "cell_type": "code",
      "source": [
        "JsonData$Name"
      ],
      "metadata": {
        "colab": {
          "base_uri": "https://localhost:8080/",
          "height": 34
        },
        "id": "vpqchWuHV7aT",
        "outputId": "df85c3f6-7c9d-4404-cf34-dd79df029b05"
      },
      "execution_count": 11,
      "outputs": [
        {
          "output_type": "display_data",
          "data": {
            "text/html": [
              "'Test'"
            ],
            "text/markdown": "'Test'",
            "text/latex": "'Test'",
            "text/plain": [
              "[1] \"Test\""
            ]
          },
          "metadata": {}
        }
      ]
    },
    {
      "cell_type": "code",
      "source": [
        "is.vector(JsonData$Pets)"
      ],
      "metadata": {
        "colab": {
          "base_uri": "https://localhost:8080/",
          "height": 34
        },
        "id": "j8P6ae4ZY9hR",
        "outputId": "7f4b9033-58cc-44ec-e6f4-ae398b5f08b4"
      },
      "execution_count": 12,
      "outputs": [
        {
          "output_type": "display_data",
          "data": {
            "text/html": [
              "TRUE"
            ],
            "text/markdown": "TRUE",
            "text/latex": "TRUE",
            "text/plain": [
              "[1] TRUE"
            ]
          },
          "metadata": {}
        }
      ]
    },
    {
      "cell_type": "code",
      "source": [
        "JsonData$Pets[1]"
      ],
      "metadata": {
        "colab": {
          "base_uri": "https://localhost:8080/",
          "height": 34
        },
        "id": "xr1i3gNrY_Qb",
        "outputId": "ed43eb81-4f5b-470b-8d95-afcd17a3ae63"
      },
      "execution_count": 13,
      "outputs": [
        {
          "output_type": "display_data",
          "data": {
            "text/html": [
              "'Dog'"
            ],
            "text/markdown": "'Dog'",
            "text/latex": "'Dog'",
            "text/plain": [
              "[1] \"Dog\""
            ]
          },
          "metadata": {}
        }
      ]
    },
    {
      "cell_type": "code",
      "source": [
        "JsonData <- as.data.frame(JsonData)"
      ],
      "metadata": {
        "id": "tXd47i3XV771"
      },
      "execution_count": 14,
      "outputs": []
    },
    {
      "cell_type": "code",
      "source": [
        "JsonData"
      ],
      "metadata": {
        "colab": {
          "base_uri": "https://localhost:8080/",
          "height": 160
        },
        "id": "co3BwqIdZZ3Q",
        "outputId": "1431a218-da59-466f-eb5f-53ad399d44d6"
      },
      "execution_count": 15,
      "outputs": [
        {
          "output_type": "display_data",
          "data": {
            "text/html": [
              "<table class=\"dataframe\">\n",
              "<caption>A data.frame: 2 × 6</caption>\n",
              "<thead>\n",
              "\t<tr><th scope=col>Name</th><th scope=col>Mobile</th><th scope=col>Boolean</th><th scope=col>Pets</th><th scope=col>Address.Permanent.address</th><th scope=col>Address.current.Address</th></tr>\n",
              "\t<tr><th scope=col>&lt;chr&gt;</th><th scope=col>&lt;dbl&gt;</th><th scope=col>&lt;lgl&gt;</th><th scope=col>&lt;chr&gt;</th><th scope=col>&lt;chr&gt;</th><th scope=col>&lt;chr&gt;</th></tr>\n",
              "</thead>\n",
              "<tbody>\n",
              "\t<tr><td>Test</td><td>12345678</td><td>TRUE</td><td>Dog</td><td>USA</td><td>AU</td></tr>\n",
              "\t<tr><td>Test</td><td>12345678</td><td>TRUE</td><td>cat</td><td>USA</td><td>AU</td></tr>\n",
              "</tbody>\n",
              "</table>\n"
            ],
            "text/markdown": "\nA data.frame: 2 × 6\n\n| Name &lt;chr&gt; | Mobile &lt;dbl&gt; | Boolean &lt;lgl&gt; | Pets &lt;chr&gt; | Address.Permanent.address &lt;chr&gt; | Address.current.Address &lt;chr&gt; |\n|---|---|---|---|---|---|\n| Test | 12345678 | TRUE | Dog | USA | AU |\n| Test | 12345678 | TRUE | cat | USA | AU |\n\n",
            "text/latex": "A data.frame: 2 × 6\n\\begin{tabular}{llllll}\n Name & Mobile & Boolean & Pets & Address.Permanent.address & Address.current.Address\\\\\n <chr> & <dbl> & <lgl> & <chr> & <chr> & <chr>\\\\\n\\hline\n\t Test & 12345678 & TRUE & Dog & USA & AU\\\\\n\t Test & 12345678 & TRUE & cat & USA & AU\\\\\n\\end{tabular}\n",
            "text/plain": [
              "  Name Mobile   Boolean Pets Address.Permanent.address Address.current.Address\n",
              "1 Test 12345678 TRUE    Dog  USA                       AU                     \n",
              "2 Test 12345678 TRUE    cat  USA                       AU                     "
            ]
          },
          "metadata": {}
        }
      ]
    },
    {
      "cell_type": "code",
      "source": [
        "class(JsonData)"
      ],
      "metadata": {
        "colab": {
          "base_uri": "https://localhost:8080/",
          "height": 34
        },
        "id": "4Bx7HTrkZkD5",
        "outputId": "277dea32-bec8-48de-948d-80661cf15862"
      },
      "execution_count": 16,
      "outputs": [
        {
          "output_type": "display_data",
          "data": {
            "text/html": [
              "'data.frame'"
            ],
            "text/markdown": "'data.frame'",
            "text/latex": "'data.frame'",
            "text/plain": [
              "[1] \"data.frame\""
            ]
          },
          "metadata": {}
        }
      ]
    }
  ]
}