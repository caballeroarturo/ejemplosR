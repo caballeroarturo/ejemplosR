{
  "nbformat": 4,
  "nbformat_minor": 0,
  "metadata": {
    "colab": {
      "provenance": [],
      "include_colab_link": true
    },
    "kernelspec": {
      "name": "ir",
      "display_name": "R"
    },
    "language_info": {
      "name": "R"
    }
  },
  "cells": [
    {
      "cell_type": "markdown",
      "metadata": {
        "id": "view-in-github",
        "colab_type": "text"
      },
      "source": [
        "<a href=\"https://colab.research.google.com/github/caballeroarturo/ejemplosR/blob/main/Sesion_8/Ejemplo_2.ipynb\" target=\"_parent\"><img src=\"https://colab.research.google.com/assets/colab-badge.svg\" alt=\"Open In Colab\"/></a>"
      ]
    },
    {
      "cell_type": "code",
      "source": [
        "install.packages(\"pacman\")"
      ],
      "metadata": {
        "colab": {
          "base_uri": "https://localhost:8080/"
        },
        "id": "KJuhNUaIyKmx",
        "outputId": "3a822d81-2280-4638-9bfb-5b3e47ce9f9b"
      },
      "execution_count": null,
      "outputs": [
        {
          "output_type": "stream",
          "name": "stderr",
          "text": [
            "Installing package into ‘/usr/local/lib/R/site-library’\n",
            "(as ‘lib’ is unspecified)\n",
            "\n"
          ]
        }
      ]
    },
    {
      "cell_type": "code",
      "execution_count": null,
      "metadata": {
        "id": "zLC--SldyBTm"
      },
      "outputs": [],
      "source": [
        "pacman::p_load(\"DBI\",\"RMySQL\")"
      ]
    },
    {
      "cell_type": "markdown",
      "source": [
        "Para realizar una conexión, necesitamos un engine que nos ayude a establecer el nombre del servidor (servidio de DBMS), el nombre de la base de datos, host y, en su caso, usuario y contraseña:"
      ],
      "metadata": {
        "id": "UrJJmDfKyfx7"
      }
    },
    {
      "cell_type": "code",
      "source": [
        "db.conn <- dbConnect(\n",
        "  drv = RMySQL::MySQL(),\n",
        "  dbname = \"shinydemo\",\n",
        "  host = \"shiny-demo.csa7qlmguqrf.us-east-1.rds.amazonaws.com\",\n",
        "  username = \"guest\",\n",
        "  password = \"guest\")\n",
        "\n"
      ],
      "metadata": {
        "id": "Ff3M0S3uyeeV"
      },
      "execution_count": null,
      "outputs": []
    },
    {
      "cell_type": "markdown",
      "source": [
        "Con la siguientes todas las tablas de datos que tenemos disponibles en nuestro database\n",
        "y enlistar el nombre de los campos en cada una de ellas:"
      ],
      "metadata": {
        "id": "5Cbonp71ynwf"
      }
    },
    {
      "cell_type": "code",
      "source": [
        "dbListTables(db.conn)"
      ],
      "metadata": {
        "colab": {
          "base_uri": "https://localhost:8080/",
          "height": 34
        },
        "id": "x708XVWDytTV",
        "outputId": "8cdccf16-825b-4dee-c546-ae1bc8bb6576"
      },
      "execution_count": null,
      "outputs": [
        {
          "output_type": "display_data",
          "data": {
            "text/html": [
              "<style>\n",
              ".list-inline {list-style: none; margin:0; padding: 0}\n",
              ".list-inline>li {display: inline-block}\n",
              ".list-inline>li:not(:last-child)::after {content: \"\\00b7\"; padding: 0 .5ex}\n",
              "</style>\n",
              "<ol class=list-inline><li>'City'</li><li>'Country'</li><li>'CountryLanguage'</li></ol>\n"
            ],
            "text/markdown": "1. 'City'\n2. 'Country'\n3. 'CountryLanguage'\n\n\n",
            "text/latex": "\\begin{enumerate*}\n\\item 'City'\n\\item 'Country'\n\\item 'CountryLanguage'\n\\end{enumerate*}\n",
            "text/plain": [
              "[1] \"City\"            \"Country\"         \"CountryLanguage\""
            ]
          },
          "metadata": {}
        }
      ]
    },
    {
      "cell_type": "code",
      "source": [
        "dbListFields(db.conn, 'City')"
      ],
      "metadata": {
        "colab": {
          "base_uri": "https://localhost:8080/",
          "height": 34
        },
        "id": "FrVQT8abzMJ_",
        "outputId": "051e4921-c107-47fa-850f-240997ed6bac"
      },
      "execution_count": null,
      "outputs": [
        {
          "output_type": "display_data",
          "data": {
            "text/html": [
              "<style>\n",
              ".list-inline {list-style: none; margin:0; padding: 0}\n",
              ".list-inline>li {display: inline-block}\n",
              ".list-inline>li:not(:last-child)::after {content: \"\\00b7\"; padding: 0 .5ex}\n",
              "</style>\n",
              "<ol class=list-inline><li>'ID'</li><li>'Name'</li><li>'CountryCode'</li><li>'District'</li><li>'Population'</li></ol>\n"
            ],
            "text/markdown": "1. 'ID'\n2. 'Name'\n3. 'CountryCode'\n4. 'District'\n5. 'Population'\n\n\n",
            "text/latex": "\\begin{enumerate*}\n\\item 'ID'\n\\item 'Name'\n\\item 'CountryCode'\n\\item 'District'\n\\item 'Population'\n\\end{enumerate*}\n",
            "text/plain": [
              "[1] \"ID\"          \"Name\"        \"CountryCode\" \"District\"    \"Population\" "
            ]
          },
          "metadata": {}
        }
      ]
    },
    {
      "cell_type": "code",
      "source": [
        "dbListFields(db.conn, 'Country')"
      ],
      "metadata": {
        "colab": {
          "base_uri": "https://localhost:8080/",
          "height": 34
        },
        "id": "sIhyP3QvzHUf",
        "outputId": "83b66d09-1c83-451f-cdd4-0aaa1bb15cd7"
      },
      "execution_count": null,
      "outputs": [
        {
          "output_type": "display_data",
          "data": {
            "text/html": [
              "<style>\n",
              ".list-inline {list-style: none; margin:0; padding: 0}\n",
              ".list-inline>li {display: inline-block}\n",
              ".list-inline>li:not(:last-child)::after {content: \"\\00b7\"; padding: 0 .5ex}\n",
              "</style>\n",
              "<ol class=list-inline><li>'Code'</li><li>'Name'</li><li>'Continent'</li><li>'Region'</li><li>'SurfaceArea'</li><li>'IndepYear'</li><li>'Population'</li><li>'LifeExpectancy'</li><li>'GNP'</li><li>'GNPOld'</li><li>'LocalName'</li><li>'GovernmentForm'</li><li>'HeadOfState'</li><li>'Capital'</li><li>'Code2'</li></ol>\n"
            ],
            "text/markdown": "1. 'Code'\n2. 'Name'\n3. 'Continent'\n4. 'Region'\n5. 'SurfaceArea'\n6. 'IndepYear'\n7. 'Population'\n8. 'LifeExpectancy'\n9. 'GNP'\n10. 'GNPOld'\n11. 'LocalName'\n12. 'GovernmentForm'\n13. 'HeadOfState'\n14. 'Capital'\n15. 'Code2'\n\n\n",
            "text/latex": "\\begin{enumerate*}\n\\item 'Code'\n\\item 'Name'\n\\item 'Continent'\n\\item 'Region'\n\\item 'SurfaceArea'\n\\item 'IndepYear'\n\\item 'Population'\n\\item 'LifeExpectancy'\n\\item 'GNP'\n\\item 'GNPOld'\n\\item 'LocalName'\n\\item 'GovernmentForm'\n\\item 'HeadOfState'\n\\item 'Capital'\n\\item 'Code2'\n\\end{enumerate*}\n",
            "text/plain": [
              " [1] \"Code\"           \"Name\"           \"Continent\"      \"Region\"        \n",
              " [5] \"SurfaceArea\"    \"IndepYear\"      \"Population\"     \"LifeExpectancy\"\n",
              " [9] \"GNP\"            \"GNPOld\"         \"LocalName\"      \"GovernmentForm\"\n",
              "[13] \"HeadOfState\"    \"Capital\"        \"Code2\"         "
            ]
          },
          "metadata": {}
        }
      ]
    },
    {
      "cell_type": "code",
      "source": [
        "dbListFields(db.conn, 'CountryLanguage')"
      ],
      "metadata": {
        "colab": {
          "base_uri": "https://localhost:8080/",
          "height": 34
        },
        "id": "nbdL2CeFzHBP",
        "outputId": "cc55ff6e-e62a-428c-e72a-62b6def69e08"
      },
      "execution_count": null,
      "outputs": [
        {
          "output_type": "display_data",
          "data": {
            "text/html": [
              "<style>\n",
              ".list-inline {list-style: none; margin:0; padding: 0}\n",
              ".list-inline>li {display: inline-block}\n",
              ".list-inline>li:not(:last-child)::after {content: \"\\00b7\"; padding: 0 .5ex}\n",
              "</style>\n",
              "<ol class=list-inline><li>'CountryCode'</li><li>'Language'</li><li>'IsOfficial'</li><li>'Percentage'</li></ol>\n"
            ],
            "text/markdown": "1. 'CountryCode'\n2. 'Language'\n3. 'IsOfficial'\n4. 'Percentage'\n\n\n",
            "text/latex": "\\begin{enumerate*}\n\\item 'CountryCode'\n\\item 'Language'\n\\item 'IsOfficial'\n\\item 'Percentage'\n\\end{enumerate*}\n",
            "text/plain": [
              "[1] \"CountryCode\" \"Language\"    \"IsOfficial\"  \"Percentage\" "
            ]
          },
          "metadata": {}
        }
      ]
    },
    {
      "cell_type": "markdown",
      "source": [
        "La función dbGetQuery() nos permite realizar una consulta y extraer los datos obtenidos."
      ],
      "metadata": {
        "id": "ImSgWtmyywZa"
      }
    },
    {
      "cell_type": "code",
      "source": [
        "db.data <- dbGetQuery(db.conn,\n",
        "                      \"SELECT a.Name AS City\n",
        "                            , a.District\n",
        "                            , a.Population AS CityPopulation\n",
        "                            , b.Name AS Country\n",
        "                            , b.Population AS CountryPopulation\n",
        "                      FROM City AS a\n",
        "                      INNER JOIN Country AS b\n",
        "                      ON a.CountryCode = b.Code\n",
        "                      ORDER BY CityPopulation DESC\")\n",
        "\n"
      ],
      "metadata": {
        "id": "Ixbfy4kkyzGm"
      },
      "execution_count": null,
      "outputs": []
    },
    {
      "cell_type": "markdown",
      "source": [
        "Los datos son almacenados en un dataframe, por lo que podemos user otras funciones\n",
        "para manipularlos, procesarlos y transformarlos."
      ],
      "metadata": {
        "id": "f6rDFSfBy2IE"
      }
    },
    {
      "cell_type": "code",
      "source": [
        "class(db.data)"
      ],
      "metadata": {
        "colab": {
          "base_uri": "https://localhost:8080/",
          "height": 34
        },
        "id": "MALSYDU_zR3X",
        "outputId": "7a3cd1c3-1cbb-4a4c-e240-af7fb5012e62"
      },
      "execution_count": null,
      "outputs": [
        {
          "output_type": "display_data",
          "data": {
            "text/html": [
              "'data.frame'"
            ],
            "text/markdown": "'data.frame'",
            "text/latex": "'data.frame'",
            "text/plain": [
              "[1] \"data.frame\""
            ]
          },
          "metadata": {}
        }
      ]
    },
    {
      "cell_type": "code",
      "source": [
        "head(db.data)"
      ],
      "metadata": {
        "colab": {
          "base_uri": "https://localhost:8080/",
          "height": 286
        },
        "id": "RWNNaAiOy30v",
        "outputId": "1b2117a7-74ff-4d9a-96c6-3c38eaaf930d"
      },
      "execution_count": null,
      "outputs": [
        {
          "output_type": "display_data",
          "data": {
            "text/html": [
              "<table class=\"dataframe\">\n",
              "<caption>A data.frame: 6 × 5</caption>\n",
              "<thead>\n",
              "\t<tr><th></th><th scope=col>City</th><th scope=col>District</th><th scope=col>CityPopulation</th><th scope=col>Country</th><th scope=col>CountryPopulation</th></tr>\n",
              "\t<tr><th></th><th scope=col>&lt;chr&gt;</th><th scope=col>&lt;chr&gt;</th><th scope=col>&lt;dbl&gt;</th><th scope=col>&lt;chr&gt;</th><th scope=col>&lt;int&gt;</th></tr>\n",
              "</thead>\n",
              "<tbody>\n",
              "\t<tr><th scope=row>1</th><td>Mumbai (Bombay)</td><td>Maharashtra </td><td>10500000</td><td>India      </td><td>1013662000</td></tr>\n",
              "\t<tr><th scope=row>2</th><td>Seoul          </td><td>Seoul       </td><td> 9981619</td><td>South Korea</td><td>  46844000</td></tr>\n",
              "\t<tr><th scope=row>3</th><td>Shanghai       </td><td>Shanghai    </td><td> 9696300</td><td>China      </td><td>1277558000</td></tr>\n",
              "\t<tr><th scope=row>4</th><td>Jakarta        </td><td>Jakarta Raya</td><td> 9604900</td><td>Indonesia  </td><td> 212107000</td></tr>\n",
              "\t<tr><th scope=row>5</th><td>Karachi        </td><td>Sindh       </td><td> 9269265</td><td>Pakistan   </td><td> 156483000</td></tr>\n",
              "\t<tr><th scope=row>6</th><td>Istanbul       </td><td>Istanbul    </td><td> 8787958</td><td>Turkey     </td><td>  66591000</td></tr>\n",
              "</tbody>\n",
              "</table>\n"
            ],
            "text/markdown": "\nA data.frame: 6 × 5\n\n| <!--/--> | City &lt;chr&gt; | District &lt;chr&gt; | CityPopulation &lt;dbl&gt; | Country &lt;chr&gt; | CountryPopulation &lt;int&gt; |\n|---|---|---|---|---|---|\n| 1 | Mumbai (Bombay) | Maharashtra  | 10500000 | India       | 1013662000 |\n| 2 | Seoul           | Seoul        |  9981619 | South Korea |   46844000 |\n| 3 | Shanghai        | Shanghai     |  9696300 | China       | 1277558000 |\n| 4 | Jakarta         | Jakarta Raya |  9604900 | Indonesia   |  212107000 |\n| 5 | Karachi         | Sindh        |  9269265 | Pakistan    |  156483000 |\n| 6 | Istanbul        | Istanbul     |  8787958 | Turkey      |   66591000 |\n\n",
            "text/latex": "A data.frame: 6 × 5\n\\begin{tabular}{r|lllll}\n  & City & District & CityPopulation & Country & CountryPopulation\\\\\n  & <chr> & <chr> & <dbl> & <chr> & <int>\\\\\n\\hline\n\t1 & Mumbai (Bombay) & Maharashtra  & 10500000 & India       & 1013662000\\\\\n\t2 & Seoul           & Seoul        &  9981619 & South Korea &   46844000\\\\\n\t3 & Shanghai        & Shanghai     &  9696300 & China       & 1277558000\\\\\n\t4 & Jakarta         & Jakarta Raya &  9604900 & Indonesia   &  212107000\\\\\n\t5 & Karachi         & Sindh        &  9269265 & Pakistan    &  156483000\\\\\n\t6 & Istanbul        & Istanbul     &  8787958 & Turkey      &   66591000\\\\\n\\end{tabular}\n",
            "text/plain": [
              "  City            District     CityPopulation Country     CountryPopulation\n",
              "1 Mumbai (Bombay) Maharashtra  10500000       India       1013662000       \n",
              "2 Seoul           Seoul         9981619       South Korea   46844000       \n",
              "3 Shanghai        Shanghai      9696300       China       1277558000       \n",
              "4 Jakarta         Jakarta Raya  9604900       Indonesia    212107000       \n",
              "5 Karachi         Sindh         9269265       Pakistan     156483000       \n",
              "6 Istanbul        Istanbul      8787958       Turkey        66591000       "
            ]
          },
          "metadata": {}
        }
      ]
    },
    {
      "cell_type": "markdown",
      "source": [
        "En algunas ocasiones ejecutaremos queries para crear, eliminar o alterar tablas (DDL),\n",
        "o para dar o revocar permisos, las cuales no regresan datos que podemos almacenar en un\n",
        "dataframe. (DCL). Como la conexión que estamos realizando es una databse pública, nos podemos\n",
        "implementar DDL o DCL, pero podemos ejemplificarlo de la siguiente forma:"
      ],
      "metadata": {
        "id": "Yk9D4wAVy7Lx"
      }
    },
    {
      "cell_type": "code",
      "source": [
        "rs <- dbSendQuery(db.conn, \"SELECT '¡Hola, mundo!' AS saludo\")\n",
        "rs\n"
      ],
      "metadata": {
        "colab": {
          "base_uri": "https://localhost:8080/",
          "height": 34
        },
        "id": "wlOldJDay8-r",
        "outputId": "5a1b7471-5c8e-4538-9652-1461dfd8eb51"
      },
      "execution_count": null,
      "outputs": [
        {
          "output_type": "display_data",
          "data": {
            "text/plain": [
              "<MySQLResult:-1438906560,1,5>"
            ]
          },
          "metadata": {}
        }
      ]
    },
    {
      "cell_type": "code",
      "source": [
        "dbFetch(rs)"
      ],
      "metadata": {
        "colab": {
          "base_uri": "https://localhost:8080/",
          "height": 146
        },
        "id": "R6rHKPc9y_UE",
        "outputId": "efdafede-6219-4f5d-bb71-506976aa1b30"
      },
      "execution_count": null,
      "outputs": [
        {
          "output_type": "display_data",
          "data": {
            "text/html": [
              "<table class=\"dataframe\">\n",
              "<caption>A data.frame: 1 × 1</caption>\n",
              "<thead>\n",
              "\t<tr><th scope=col>saludo</th></tr>\n",
              "\t<tr><th scope=col>&lt;chr&gt;</th></tr>\n",
              "</thead>\n",
              "<tbody>\n",
              "\t<tr><td>¡Hola, mundo!</td></tr>\n",
              "</tbody>\n",
              "</table>\n"
            ],
            "text/markdown": "\nA data.frame: 1 × 1\n\n| saludo &lt;chr&gt; |\n|---|\n| ¡Hola, mundo! |\n\n",
            "text/latex": "A data.frame: 1 × 1\n\\begin{tabular}{l}\n saludo\\\\\n <chr>\\\\\n\\hline\n\t ¡Hola, mundo!\\\\\n\\end{tabular}\n",
            "text/plain": [
              "  saludo       \n",
              "1 ¡Hola, mundo!"
            ]
          },
          "metadata": {}
        }
      ]
    },
    {
      "cell_type": "code",
      "source": [
        "dbClearResult(rs)"
      ],
      "metadata": {
        "colab": {
          "base_uri": "https://localhost:8080/",
          "height": 34
        },
        "id": "0U44HHFJzWQw",
        "outputId": "b29b4199-b8be-4bf4-b1a6-66799ad93f80"
      },
      "execution_count": null,
      "outputs": [
        {
          "output_type": "display_data",
          "data": {
            "text/html": [
              "TRUE"
            ],
            "text/markdown": "TRUE",
            "text/latex": "TRUE",
            "text/plain": [
              "[1] TRUE"
            ]
          },
          "metadata": {}
        }
      ]
    },
    {
      "cell_type": "markdown",
      "source": [
        "\"Una vez terminadas nuestras consultas, debemos cerrar nuestra conexión:\""
      ],
      "metadata": {
        "id": "okrpjV4tzDDC"
      }
    },
    {
      "cell_type": "code",
      "source": [
        "dbDisconnect(db.conn)"
      ],
      "metadata": {
        "colab": {
          "base_uri": "https://localhost:8080/",
          "height": 34
        },
        "id": "UnD3DxwfzAfT",
        "outputId": "244cc987-8927-445a-b63a-83d231e7b185"
      },
      "execution_count": null,
      "outputs": [
        {
          "output_type": "display_data",
          "data": {
            "text/html": [
              "TRUE"
            ],
            "text/markdown": "TRUE",
            "text/latex": "TRUE",
            "text/plain": [
              "[1] TRUE"
            ]
          },
          "metadata": {}
        }
      ]
    }
  ]
}