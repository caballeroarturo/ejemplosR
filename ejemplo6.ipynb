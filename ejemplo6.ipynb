{
  "nbformat": 4,
  "nbformat_minor": 0,
  "metadata": {
    "colab": {
      "provenance": [],
      "authorship_tag": "ABX9TyORu8Ja9TKwpoqNExjKRnaL",
      "include_colab_link": true
    },
    "kernelspec": {
      "name": "ir",
      "display_name": "R"
    },
    "language_info": {
      "name": "R"
    }
  },
  "cells": [
    {
      "cell_type": "markdown",
      "metadata": {
        "id": "view-in-github",
        "colab_type": "text"
      },
      "source": [
        "<a href=\"https://colab.research.google.com/github/caballeroarturo/ejemplosR/blob/main/ejemplo6.ipynb\" target=\"_parent\"><img src=\"https://colab.research.google.com/assets/colab-badge.svg\" alt=\"Open In Colab\"/></a>"
      ]
    },
    {
      "cell_type": "markdown",
      "source": [
        "# Ejemplo 6. Funciones `na.omit` y `complete.cases`"
      ],
      "metadata": {
        "id": "kO_RKlQZsTLF"
      }
    },
    {
      "cell_type": "code",
      "execution_count": 1,
      "metadata": {
        "colab": {
          "base_uri": "https://localhost:8080/"
        },
        "id": "aVfEkCkrr_dD",
        "outputId": "46d432db-4d7e-496b-8ae4-74458c1b254f"
      },
      "outputs": [
        {
          "output_type": "stream",
          "name": "stderr",
          "text": [
            "Installing package into ‘/usr/local/lib/R/site-library’\n",
            "(as ‘lib’ is unspecified)\n",
            "\n"
          ]
        }
      ],
      "source": [
        "install.packages(\"pacman\")"
      ]
    },
    {
      "cell_type": "code",
      "source": [
        "pacman::p_load(dplyr)"
      ],
      "metadata": {
        "id": "n5IHa_bPsLCw"
      },
      "execution_count": 2,
      "outputs": []
    },
    {
      "cell_type": "code",
      "source": [
        "# Ahora vamos a considerar el conjunto de datos `airquality`, observamos primero\n",
        "# algunas de sus filas\n",
        "\n",
        "head(airquality)"
      ],
      "metadata": {
        "colab": {
          "base_uri": "https://localhost:8080/",
          "height": 286
        },
        "id": "hLciFl81sVUK",
        "outputId": "091ffa3b-d6f5-4589-c20e-d8143efe9ff6"
      },
      "execution_count": 3,
      "outputs": [
        {
          "output_type": "display_data",
          "data": {
            "text/html": [
              "<table class=\"dataframe\">\n",
              "<caption>A data.frame: 6 × 6</caption>\n",
              "<thead>\n",
              "\t<tr><th></th><th scope=col>Ozone</th><th scope=col>Solar.R</th><th scope=col>Wind</th><th scope=col>Temp</th><th scope=col>Month</th><th scope=col>Day</th></tr>\n",
              "\t<tr><th></th><th scope=col>&lt;int&gt;</th><th scope=col>&lt;int&gt;</th><th scope=col>&lt;dbl&gt;</th><th scope=col>&lt;int&gt;</th><th scope=col>&lt;int&gt;</th><th scope=col>&lt;int&gt;</th></tr>\n",
              "</thead>\n",
              "<tbody>\n",
              "\t<tr><th scope=row>1</th><td>41</td><td>190</td><td> 7.4</td><td>67</td><td>5</td><td>1</td></tr>\n",
              "\t<tr><th scope=row>2</th><td>36</td><td>118</td><td> 8.0</td><td>72</td><td>5</td><td>2</td></tr>\n",
              "\t<tr><th scope=row>3</th><td>12</td><td>149</td><td>12.6</td><td>74</td><td>5</td><td>3</td></tr>\n",
              "\t<tr><th scope=row>4</th><td>18</td><td>313</td><td>11.5</td><td>62</td><td>5</td><td>4</td></tr>\n",
              "\t<tr><th scope=row>5</th><td>NA</td><td> NA</td><td>14.3</td><td>56</td><td>5</td><td>5</td></tr>\n",
              "\t<tr><th scope=row>6</th><td>28</td><td> NA</td><td>14.9</td><td>66</td><td>5</td><td>6</td></tr>\n",
              "</tbody>\n",
              "</table>\n"
            ],
            "text/markdown": "\nA data.frame: 6 × 6\n\n| <!--/--> | Ozone &lt;int&gt; | Solar.R &lt;int&gt; | Wind &lt;dbl&gt; | Temp &lt;int&gt; | Month &lt;int&gt; | Day &lt;int&gt; |\n|---|---|---|---|---|---|---|\n| 1 | 41 | 190 |  7.4 | 67 | 5 | 1 |\n| 2 | 36 | 118 |  8.0 | 72 | 5 | 2 |\n| 3 | 12 | 149 | 12.6 | 74 | 5 | 3 |\n| 4 | 18 | 313 | 11.5 | 62 | 5 | 4 |\n| 5 | NA |  NA | 14.3 | 56 | 5 | 5 |\n| 6 | 28 |  NA | 14.9 | 66 | 5 | 6 |\n\n",
            "text/latex": "A data.frame: 6 × 6\n\\begin{tabular}{r|llllll}\n  & Ozone & Solar.R & Wind & Temp & Month & Day\\\\\n  & <int> & <int> & <dbl> & <int> & <int> & <int>\\\\\n\\hline\n\t1 & 41 & 190 &  7.4 & 67 & 5 & 1\\\\\n\t2 & 36 & 118 &  8.0 & 72 & 5 & 2\\\\\n\t3 & 12 & 149 & 12.6 & 74 & 5 & 3\\\\\n\t4 & 18 & 313 & 11.5 & 62 & 5 & 4\\\\\n\t5 & NA &  NA & 14.3 & 56 & 5 & 5\\\\\n\t6 & 28 &  NA & 14.9 & 66 & 5 & 6\\\\\n\\end{tabular}\n",
            "text/plain": [
              "  Ozone Solar.R Wind Temp Month Day\n",
              "1 41    190      7.4 67   5     1  \n",
              "2 36    118      8.0 72   5     2  \n",
              "3 12    149     12.6 74   5     3  \n",
              "4 18    313     11.5 62   5     4  \n",
              "5 NA     NA     14.3 56   5     5  \n",
              "6 28     NA     14.9 66   5     6  "
            ]
          },
          "metadata": {}
        }
      ]
    },
    {
      "cell_type": "code",
      "source": [
        "# El tipo de objeto que es y el tipo de variables que contiene\n",
        "\n",
        "str(airquality)\n",
        "\n"
      ],
      "metadata": {
        "colab": {
          "base_uri": "https://localhost:8080/"
        },
        "id": "zW9sXlMCsiaB",
        "outputId": "0f3b6d92-06b8-4195-c1ce-24e04845584a"
      },
      "execution_count": 4,
      "outputs": [
        {
          "output_type": "stream",
          "name": "stdout",
          "text": [
            "'data.frame':\t153 obs. of  6 variables:\n",
            " $ Ozone  : int  41 36 12 18 NA 28 23 19 8 NA ...\n",
            " $ Solar.R: int  190 118 149 313 NA NA 299 99 19 194 ...\n",
            " $ Wind   : num  7.4 8 12.6 11.5 14.3 14.9 8.6 13.8 20.1 8.6 ...\n",
            " $ Temp   : int  67 72 74 62 56 66 65 59 61 69 ...\n",
            " $ Month  : int  5 5 5 5 5 5 5 5 5 5 ...\n",
            " $ Day    : int  1 2 3 4 5 6 7 8 9 10 ...\n"
          ]
        }
      ]
    },
    {
      "cell_type": "markdown",
      "source": [
        "Ver ayuda"
      ],
      "metadata": {
        "id": "sanBqvUdsxGy"
      }
    },
    {
      "cell_type": "code",
      "source": [
        "?airquality"
      ],
      "metadata": {
        "id": "iqAA5dOMsoDK"
      },
      "execution_count": 5,
      "outputs": []
    },
    {
      "cell_type": "code",
      "source": [
        "dim(airquality)"
      ],
      "metadata": {
        "colab": {
          "base_uri": "https://localhost:8080/",
          "height": 34
        },
        "id": "pTJaNiq_szGp",
        "outputId": "8fe49656-2414-4cb7-8005-a541a54160f9"
      },
      "execution_count": 6,
      "outputs": [
        {
          "output_type": "display_data",
          "data": {
            "text/html": [
              "<style>\n",
              ".list-inline {list-style: none; margin:0; padding: 0}\n",
              ".list-inline>li {display: inline-block}\n",
              ".list-inline>li:not(:last-child)::after {content: \"\\00b7\"; padding: 0 .5ex}\n",
              "</style>\n",
              "<ol class=list-inline><li>153</li><li>6</li></ol>\n"
            ],
            "text/markdown": "1. 153\n2. 6\n\n\n",
            "text/latex": "\\begin{enumerate*}\n\\item 153\n\\item 6\n\\end{enumerate*}\n",
            "text/plain": [
              "[1] 153   6"
            ]
          },
          "metadata": {}
        }
      ]
    },
    {
      "cell_type": "code",
      "source": [
        "summary(airquality)"
      ],
      "metadata": {
        "colab": {
          "base_uri": "https://localhost:8080/",
          "height": 303
        },
        "id": "SxsMvLYHs15S",
        "outputId": "f158ec6e-c789-4c7c-8751-4d0baf9b34d9"
      },
      "execution_count": 7,
      "outputs": [
        {
          "output_type": "display_data",
          "data": {
            "text/plain": [
              "     Ozone           Solar.R           Wind             Temp      \n",
              " Min.   :  1.00   Min.   :  7.0   Min.   : 1.700   Min.   :56.00  \n",
              " 1st Qu.: 18.00   1st Qu.:115.8   1st Qu.: 7.400   1st Qu.:72.00  \n",
              " Median : 31.50   Median :205.0   Median : 9.700   Median :79.00  \n",
              " Mean   : 42.13   Mean   :185.9   Mean   : 9.958   Mean   :77.88  \n",
              " 3rd Qu.: 63.25   3rd Qu.:258.8   3rd Qu.:11.500   3rd Qu.:85.00  \n",
              " Max.   :168.00   Max.   :334.0   Max.   :20.700   Max.   :97.00  \n",
              " NA's   :37       NA's   :7                                       \n",
              "     Month            Day      \n",
              " Min.   :5.000   Min.   : 1.0  \n",
              " 1st Qu.:6.000   1st Qu.: 8.0  \n",
              " Median :7.000   Median :16.0  \n",
              " Mean   :6.993   Mean   :15.8  \n",
              " 3rd Qu.:8.000   3rd Qu.:23.0  \n",
              " Max.   :9.000   Max.   :31.0  \n",
              "                               "
            ]
          },
          "metadata": {}
        }
      ]
    },
    {
      "cell_type": "code",
      "source": [
        "nrow(airquality)"
      ],
      "metadata": {
        "colab": {
          "base_uri": "https://localhost:8080/",
          "height": 34
        },
        "id": "r28lqbnas_Ar",
        "outputId": "b68f45e2-c97d-4d0a-c131-06209eea945f"
      },
      "execution_count": 8,
      "outputs": [
        {
          "output_type": "display_data",
          "data": {
            "text/html": [
              "153"
            ],
            "text/markdown": "153",
            "text/latex": "153",
            "text/plain": [
              "[1] 153"
            ]
          },
          "metadata": {}
        }
      ]
    },
    {
      "cell_type": "code",
      "source": [
        "# Con la función `complete.cases` podemos averiguar cuales son aquellas filas\n",
        "# que no contienen ningún valor perdido (NA) y cuales son aquellas filas\n",
        "# que tienen al menos un valor perdido.\n",
        "\n",
        "bien <- complete.cases(airquality)"
      ],
      "metadata": {
        "id": "YXNVQ-dJtEkR"
      },
      "execution_count": 9,
      "outputs": []
    },
    {
      "cell_type": "code",
      "source": [
        "length(bien)"
      ],
      "metadata": {
        "colab": {
          "base_uri": "https://localhost:8080/",
          "height": 34
        },
        "id": "QSwZAi_KtJIK",
        "outputId": "498e9e74-ed3c-4dd1-9fc5-3271de90782a"
      },
      "execution_count": 10,
      "outputs": [
        {
          "output_type": "display_data",
          "data": {
            "text/html": [
              "153"
            ],
            "text/markdown": "153",
            "text/latex": "153",
            "text/plain": [
              "[1] 153"
            ]
          },
          "metadata": {}
        }
      ]
    },
    {
      "cell_type": "code",
      "source": [
        "table(bien)"
      ],
      "metadata": {
        "colab": {
          "base_uri": "https://localhost:8080/",
          "height": 71
        },
        "id": "eKpnS_jxtMDX",
        "outputId": "0dc9badf-83ad-4fe7-d007-cad0327657a3"
      },
      "execution_count": 11,
      "outputs": [
        {
          "output_type": "display_data",
          "data": {
            "text/plain": [
              "bien\n",
              "FALSE  TRUE \n",
              "   42   111 "
            ]
          },
          "metadata": {}
        }
      ]
    },
    {
      "cell_type": "code",
      "source": [
        "#Porcentaje\n",
        "round(100*42/153,0)"
      ],
      "metadata": {
        "colab": {
          "base_uri": "https://localhost:8080/",
          "height": 34
        },
        "id": "koVpt2GYtTf8",
        "outputId": "ad4f76e0-60af-4b24-afc3-7c061aa242f2"
      },
      "execution_count": 15,
      "outputs": [
        {
          "output_type": "display_data",
          "data": {
            "text/html": [
              "27"
            ],
            "text/markdown": "27",
            "text/latex": "27",
            "text/plain": [
              "[1] 27"
            ]
          },
          "metadata": {}
        }
      ]
    },
    {
      "cell_type": "code",
      "source": [
        "sum(bien)"
      ],
      "metadata": {
        "colab": {
          "base_uri": "https://localhost:8080/",
          "height": 34
        },
        "id": "-ty5C5UitmBb",
        "outputId": "41c091a3-5a4d-447f-db08-033fa905b85b"
      },
      "execution_count": 16,
      "outputs": [
        {
          "output_type": "display_data",
          "data": {
            "text/html": [
              "111"
            ],
            "text/markdown": "111",
            "text/latex": "111",
            "text/plain": [
              "[1] 111"
            ]
          },
          "metadata": {}
        }
      ]
    },
    {
      "cell_type": "markdown",
      "source": [
        "Podemos filtrar aquellos renglones sin NA's de la siguiente manera"
      ],
      "metadata": {
        "id": "NSrVL8_7t1it"
      }
    },
    {
      "cell_type": "code",
      "source": [
        "data <- airquality[bien,]"
      ],
      "metadata": {
        "id": "1sRqLgumtuvq"
      },
      "execution_count": 22,
      "outputs": []
    },
    {
      "cell_type": "code",
      "source": [
        "dim(data)"
      ],
      "metadata": {
        "colab": {
          "base_uri": "https://localhost:8080/",
          "height": 34
        },
        "id": "2_McJK-lua1E",
        "outputId": "e2f1efb3-d9bb-429e-f2c4-69fedbfc0aa4"
      },
      "execution_count": 23,
      "outputs": [
        {
          "output_type": "display_data",
          "data": {
            "text/html": [
              "<style>\n",
              ".list-inline {list-style: none; margin:0; padding: 0}\n",
              ".list-inline>li {display: inline-block}\n",
              ".list-inline>li:not(:last-child)::after {content: \"\\00b7\"; padding: 0 .5ex}\n",
              "</style>\n",
              "<ol class=list-inline><li>111</li><li>6</li></ol>\n"
            ],
            "text/markdown": "1. 111\n2. 6\n\n\n",
            "text/latex": "\\begin{enumerate*}\n\\item 111\n\\item 6\n\\end{enumerate*}\n",
            "text/plain": [
              "[1] 111   6"
            ]
          },
          "metadata": {}
        }
      ]
    },
    {
      "cell_type": "code",
      "source": [
        "data <- select(data, Ozone:Temp)"
      ],
      "metadata": {
        "id": "ZfcU_87ft5Kz"
      },
      "execution_count": 24,
      "outputs": []
    },
    {
      "cell_type": "code",
      "source": [
        "head(data)"
      ],
      "metadata": {
        "colab": {
          "base_uri": "https://localhost:8080/",
          "height": 286
        },
        "id": "gKoEYCWiug8Q",
        "outputId": "4da8c0eb-db24-4669-d4b7-9da6f4882b2f"
      },
      "execution_count": 25,
      "outputs": [
        {
          "output_type": "display_data",
          "data": {
            "text/html": [
              "<table class=\"dataframe\">\n",
              "<caption>A data.frame: 6 × 4</caption>\n",
              "<thead>\n",
              "\t<tr><th></th><th scope=col>Ozone</th><th scope=col>Solar.R</th><th scope=col>Wind</th><th scope=col>Temp</th></tr>\n",
              "\t<tr><th></th><th scope=col>&lt;int&gt;</th><th scope=col>&lt;int&gt;</th><th scope=col>&lt;dbl&gt;</th><th scope=col>&lt;int&gt;</th></tr>\n",
              "</thead>\n",
              "<tbody>\n",
              "\t<tr><th scope=row>1</th><td>41</td><td>190</td><td> 7.4</td><td>67</td></tr>\n",
              "\t<tr><th scope=row>2</th><td>36</td><td>118</td><td> 8.0</td><td>72</td></tr>\n",
              "\t<tr><th scope=row>3</th><td>12</td><td>149</td><td>12.6</td><td>74</td></tr>\n",
              "\t<tr><th scope=row>4</th><td>18</td><td>313</td><td>11.5</td><td>62</td></tr>\n",
              "\t<tr><th scope=row>7</th><td>23</td><td>299</td><td> 8.6</td><td>65</td></tr>\n",
              "\t<tr><th scope=row>8</th><td>19</td><td> 99</td><td>13.8</td><td>59</td></tr>\n",
              "</tbody>\n",
              "</table>\n"
            ],
            "text/markdown": "\nA data.frame: 6 × 4\n\n| <!--/--> | Ozone &lt;int&gt; | Solar.R &lt;int&gt; | Wind &lt;dbl&gt; | Temp &lt;int&gt; |\n|---|---|---|---|---|\n| 1 | 41 | 190 |  7.4 | 67 |\n| 2 | 36 | 118 |  8.0 | 72 |\n| 3 | 12 | 149 | 12.6 | 74 |\n| 4 | 18 | 313 | 11.5 | 62 |\n| 7 | 23 | 299 |  8.6 | 65 |\n| 8 | 19 |  99 | 13.8 | 59 |\n\n",
            "text/latex": "A data.frame: 6 × 4\n\\begin{tabular}{r|llll}\n  & Ozone & Solar.R & Wind & Temp\\\\\n  & <int> & <int> & <dbl> & <int>\\\\\n\\hline\n\t1 & 41 & 190 &  7.4 & 67\\\\\n\t2 & 36 & 118 &  8.0 & 72\\\\\n\t3 & 12 & 149 & 12.6 & 74\\\\\n\t4 & 18 & 313 & 11.5 & 62\\\\\n\t7 & 23 & 299 &  8.6 & 65\\\\\n\t8 & 19 &  99 & 13.8 & 59\\\\\n\\end{tabular}\n",
            "text/plain": [
              "  Ozone Solar.R Wind Temp\n",
              "1 41    190      7.4 67  \n",
              "2 36    118      8.0 72  \n",
              "3 12    149     12.6 74  \n",
              "4 18    313     11.5 62  \n",
              "7 23    299      8.6 65  \n",
              "8 19     99     13.8 59  "
            ]
          },
          "metadata": {}
        }
      ]
    },
    {
      "cell_type": "code",
      "source": [
        "dim(data)"
      ],
      "metadata": {
        "colab": {
          "base_uri": "https://localhost:8080/",
          "height": 34
        },
        "id": "C2uYSJGOuH_l",
        "outputId": "5598db4d-3507-4ef8-d278-991bcc7f8a06"
      },
      "execution_count": 26,
      "outputs": [
        {
          "output_type": "display_data",
          "data": {
            "text/html": [
              "<style>\n",
              ".list-inline {list-style: none; margin:0; padding: 0}\n",
              ".list-inline>li {display: inline-block}\n",
              ".list-inline>li:not(:last-child)::after {content: \"\\00b7\"; padding: 0 .5ex}\n",
              "</style>\n",
              "<ol class=list-inline><li>111</li><li>4</li></ol>\n"
            ],
            "text/markdown": "1. 111\n2. 4\n\n\n",
            "text/latex": "\\begin{enumerate*}\n\\item 111\n\\item 4\n\\end{enumerate*}\n",
            "text/plain": [
              "[1] 111   4"
            ]
          },
          "metadata": {}
        }
      ]
    },
    {
      "cell_type": "code",
      "source": [
        "apply(data, 2, mean)"
      ],
      "metadata": {
        "colab": {
          "base_uri": "https://localhost:8080/",
          "height": 52
        },
        "id": "20fGvI_NuHfx",
        "outputId": "7d7ea0f0-d747-48f4-f1e3-813ee9ab5f7a"
      },
      "execution_count": 27,
      "outputs": [
        {
          "output_type": "display_data",
          "data": {
            "text/html": [
              "<style>\n",
              ".dl-inline {width: auto; margin:0; padding: 0}\n",
              ".dl-inline>dt, .dl-inline>dd {float: none; width: auto; display: inline-block}\n",
              ".dl-inline>dt::after {content: \":\\0020\"; padding-right: .5ex}\n",
              ".dl-inline>dt:not(:first-of-type) {padding-left: .5ex}\n",
              "</style><dl class=dl-inline><dt>Ozone</dt><dd>42.0990990990991</dd><dt>Solar.R</dt><dd>184.801801801802</dd><dt>Wind</dt><dd>9.93963963963964</dd><dt>Temp</dt><dd>77.7927927927928</dd></dl>\n"
            ],
            "text/markdown": "Ozone\n:   42.0990990990991Solar.R\n:   184.801801801802Wind\n:   9.93963963963964Temp\n:   77.7927927927928\n\n",
            "text/latex": "\\begin{description*}\n\\item[Ozone] 42.0990990990991\n\\item[Solar.R] 184.801801801802\n\\item[Wind] 9.93963963963964\n\\item[Temp] 77.7927927927928\n\\end{description*}\n",
            "text/plain": [
              "    Ozone   Solar.R      Wind      Temp \n",
              " 42.09910 184.80180   9.93964  77.79279 "
            ]
          },
          "metadata": {}
        }
      ]
    },
    {
      "cell_type": "code",
      "source": [
        "apply(airquality %>% select(Ozone:Temp), 2, mean, na.rm = T)"
      ],
      "metadata": {
        "colab": {
          "base_uri": "https://localhost:8080/",
          "height": 52
        },
        "id": "ay9ym8qyulbf",
        "outputId": "bb5b211c-f491-4a5e-a88c-17dceab2f676"
      },
      "execution_count": 29,
      "outputs": [
        {
          "output_type": "display_data",
          "data": {
            "text/html": [
              "<style>\n",
              ".dl-inline {width: auto; margin:0; padding: 0}\n",
              ".dl-inline>dt, .dl-inline>dd {float: none; width: auto; display: inline-block}\n",
              ".dl-inline>dt::after {content: \":\\0020\"; padding-right: .5ex}\n",
              ".dl-inline>dt:not(:first-of-type) {padding-left: .5ex}\n",
              "</style><dl class=dl-inline><dt>Ozone</dt><dd>42.1293103448276</dd><dt>Solar.R</dt><dd>185.931506849315</dd><dt>Wind</dt><dd>9.95751633986928</dd><dt>Temp</dt><dd>77.8823529411765</dd></dl>\n"
            ],
            "text/markdown": "Ozone\n:   42.1293103448276Solar.R\n:   185.931506849315Wind\n:   9.95751633986928Temp\n:   77.8823529411765\n\n",
            "text/latex": "\\begin{description*}\n\\item[Ozone] 42.1293103448276\n\\item[Solar.R] 185.931506849315\n\\item[Wind] 9.95751633986928\n\\item[Temp] 77.8823529411765\n\\end{description*}\n",
            "text/plain": [
              "     Ozone    Solar.R       Wind       Temp \n",
              " 42.129310 185.931507   9.957516  77.882353 "
            ]
          },
          "metadata": {}
        }
      ]
    },
    {
      "cell_type": "code",
      "source": [
        "apply(airquality %>% select(Ozone:Temp), 2, mean, na.rm = F)"
      ],
      "metadata": {
        "colab": {
          "base_uri": "https://localhost:8080/",
          "height": 34
        },
        "id": "C6jbBrhIu56b",
        "outputId": "5e60b3e7-a407-4072-c2a0-a4b4a768b504"
      },
      "execution_count": 30,
      "outputs": [
        {
          "output_type": "display_data",
          "data": {
            "text/html": [
              "<style>\n",
              ".dl-inline {width: auto; margin:0; padding: 0}\n",
              ".dl-inline>dt, .dl-inline>dd {float: none; width: auto; display: inline-block}\n",
              ".dl-inline>dt::after {content: \":\\0020\"; padding-right: .5ex}\n",
              ".dl-inline>dt:not(:first-of-type) {padding-left: .5ex}\n",
              "</style><dl class=dl-inline><dt>Ozone</dt><dd>&lt;NA&gt;</dd><dt>Solar.R</dt><dd>&lt;NA&gt;</dd><dt>Wind</dt><dd>9.95751633986928</dd><dt>Temp</dt><dd>77.8823529411765</dd></dl>\n"
            ],
            "text/markdown": "Ozone\n:   &lt;NA&gt;Solar.R\n:   &lt;NA&gt;Wind\n:   9.95751633986928Temp\n:   77.8823529411765\n\n",
            "text/latex": "\\begin{description*}\n\\item[Ozone] <NA>\n\\item[Solar.R] <NA>\n\\item[Wind] 9.95751633986928\n\\item[Temp] 77.8823529411765\n\\end{description*}\n",
            "text/plain": [
              "    Ozone   Solar.R      Wind      Temp \n",
              "       NA        NA  9.957516 77.882353 "
            ]
          },
          "metadata": {}
        }
      ]
    },
    {
      "cell_type": "code",
      "source": [
        "# `na.omit` devuelve el objeto con casos incompletos eliminados\n",
        "data <- airquality %>% select(Ozone:Temp)\n",
        "m1 <- apply(na.omit(data), 2, mean)\n",
        "m1"
      ],
      "metadata": {
        "colab": {
          "base_uri": "https://localhost:8080/",
          "height": 52
        },
        "id": "6qCZadpWviaN",
        "outputId": "e12e0872-6eff-4d59-b12e-0cb80a3375fd"
      },
      "execution_count": 32,
      "outputs": [
        {
          "output_type": "display_data",
          "data": {
            "text/html": [
              "<style>\n",
              ".dl-inline {width: auto; margin:0; padding: 0}\n",
              ".dl-inline>dt, .dl-inline>dd {float: none; width: auto; display: inline-block}\n",
              ".dl-inline>dt::after {content: \":\\0020\"; padding-right: .5ex}\n",
              ".dl-inline>dt:not(:first-of-type) {padding-left: .5ex}\n",
              "</style><dl class=dl-inline><dt>Ozone</dt><dd>42.0990990990991</dd><dt>Solar.R</dt><dd>184.801801801802</dd><dt>Wind</dt><dd>9.93963963963964</dd><dt>Temp</dt><dd>77.7927927927928</dd></dl>\n"
            ],
            "text/markdown": "Ozone\n:   42.0990990990991Solar.R\n:   184.801801801802Wind\n:   9.93963963963964Temp\n:   77.7927927927928\n\n",
            "text/latex": "\\begin{description*}\n\\item[Ozone] 42.0990990990991\n\\item[Solar.R] 184.801801801802\n\\item[Wind] 9.93963963963964\n\\item[Temp] 77.7927927927928\n\\end{description*}\n",
            "text/plain": [
              "    Ozone   Solar.R      Wind      Temp \n",
              " 42.09910 184.80180   9.93964  77.79279 "
            ]
          },
          "metadata": {}
        }
      ]
    },
    {
      "cell_type": "code",
      "source": [
        "b <- complete.cases(data)"
      ],
      "metadata": {
        "id": "uR5mkir3vq74"
      },
      "execution_count": 33,
      "outputs": []
    },
    {
      "cell_type": "code",
      "source": [
        "m2 <- apply(data[b,], 2, mean)\n",
        "m2"
      ],
      "metadata": {
        "colab": {
          "base_uri": "https://localhost:8080/",
          "height": 52
        },
        "id": "2YNVhAVEvlsX",
        "outputId": "2951988a-c86d-490a-cf27-f41f252d3d52"
      },
      "execution_count": 35,
      "outputs": [
        {
          "output_type": "display_data",
          "data": {
            "text/html": [
              "<style>\n",
              ".dl-inline {width: auto; margin:0; padding: 0}\n",
              ".dl-inline>dt, .dl-inline>dd {float: none; width: auto; display: inline-block}\n",
              ".dl-inline>dt::after {content: \":\\0020\"; padding-right: .5ex}\n",
              ".dl-inline>dt:not(:first-of-type) {padding-left: .5ex}\n",
              "</style><dl class=dl-inline><dt>Ozone</dt><dd>42.0990990990991</dd><dt>Solar.R</dt><dd>184.801801801802</dd><dt>Wind</dt><dd>9.93963963963964</dd><dt>Temp</dt><dd>77.7927927927928</dd></dl>\n"
            ],
            "text/markdown": "Ozone\n:   42.0990990990991Solar.R\n:   184.801801801802Wind\n:   9.93963963963964Temp\n:   77.7927927927928\n\n",
            "text/latex": "\\begin{description*}\n\\item[Ozone] 42.0990990990991\n\\item[Solar.R] 184.801801801802\n\\item[Wind] 9.93963963963964\n\\item[Temp] 77.7927927927928\n\\end{description*}\n",
            "text/plain": [
              "    Ozone   Solar.R      Wind      Temp \n",
              " 42.09910 184.80180   9.93964  77.79279 "
            ]
          },
          "metadata": {}
        }
      ]
    },
    {
      "cell_type": "code",
      "source": [],
      "metadata": {
        "id": "lfG6XFQ_wJH6"
      },
      "execution_count": null,
      "outputs": []
    },
    {
      "cell_type": "code",
      "source": [
        "m3 <- apply(airquality %>% select(Ozone:Temp), 2, mean, na.rm = T)\n",
        "m3"
      ],
      "metadata": {
        "colab": {
          "base_uri": "https://localhost:8080/",
          "height": 52
        },
        "id": "Fxh9cxJ3wL1J",
        "outputId": "5ed6a30f-e0e6-445c-ebd6-be18ed7d2c2e"
      },
      "execution_count": 38,
      "outputs": [
        {
          "output_type": "display_data",
          "data": {
            "text/html": [
              "<style>\n",
              ".dl-inline {width: auto; margin:0; padding: 0}\n",
              ".dl-inline>dt, .dl-inline>dd {float: none; width: auto; display: inline-block}\n",
              ".dl-inline>dt::after {content: \":\\0020\"; padding-right: .5ex}\n",
              ".dl-inline>dt:not(:first-of-type) {padding-left: .5ex}\n",
              "</style><dl class=dl-inline><dt>Ozone</dt><dd>42.1293103448276</dd><dt>Solar.R</dt><dd>185.931506849315</dd><dt>Wind</dt><dd>9.95751633986928</dd><dt>Temp</dt><dd>77.8823529411765</dd></dl>\n"
            ],
            "text/markdown": "Ozone\n:   42.1293103448276Solar.R\n:   185.931506849315Wind\n:   9.95751633986928Temp\n:   77.8823529411765\n\n",
            "text/latex": "\\begin{description*}\n\\item[Ozone] 42.1293103448276\n\\item[Solar.R] 185.931506849315\n\\item[Wind] 9.95751633986928\n\\item[Temp] 77.8823529411765\n\\end{description*}\n",
            "text/plain": [
              "     Ozone    Solar.R       Wind       Temp \n",
              " 42.129310 185.931507   9.957516  77.882353 "
            ]
          },
          "metadata": {}
        }
      ]
    },
    {
      "cell_type": "code",
      "source": [
        "identical(m1, m3)"
      ],
      "metadata": {
        "colab": {
          "base_uri": "https://localhost:8080/",
          "height": 34
        },
        "id": "JBm77u0ivm3f",
        "outputId": "f793ff94-e3f9-4243-cf3f-7f5046d3cb8c"
      },
      "execution_count": 39,
      "outputs": [
        {
          "output_type": "display_data",
          "data": {
            "text/html": [
              "FALSE"
            ],
            "text/markdown": "FALSE",
            "text/latex": "FALSE",
            "text/plain": [
              "[1] FALSE"
            ]
          },
          "metadata": {}
        }
      ]
    }
  ]
}